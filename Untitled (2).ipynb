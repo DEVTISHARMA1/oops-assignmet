{
 "cells": [
  {
   "cell_type": "code",
   "execution_count": 1,
   "id": "08688ba0-9149-4843-a642-afa98545e3f9",
   "metadata": {},
   "outputs": [],
   "source": [
    "#1 que\n",
    "class vehicle:\n",
    "    def __init__(self,name_of_vehicle,max_speed,average_of_vehicle):\n",
    "        self.name_of_vehicle=name_of_vehicle\n",
    "        self.max_speed=max_speed\n",
    "        self.average_of_vehicle=average_of_vehicle\n"
   ]
  },
  {
   "cell_type": "code",
   "execution_count": 2,
   "id": "5e87ee7f-f75c-4244-b23a-36ad3f2b2980",
   "metadata": {},
   "outputs": [],
   "source": [
    "#2 que\n",
    "class Car(vehicle):\n",
    "    def seating_capacity(self, capacity):\n",
    "        return self.name_of_vehicle,capacity"
   ]
  },
  {
   "cell_type": "code",
   "execution_count": 3,
   "id": "5387ac41-d5d3-45e4-84e9-2fedb3056dd5",
   "metadata": {},
   "outputs": [
    {
     "name": "stdout",
     "output_type": "stream",
     "text": [
      "('bike', 5)\n"
     ]
    }
   ],
   "source": [
    "Vehicle = vehicle(\"bike\", 200, 50)\n",
    "\n",
    "ob = Car('bike',23,5)\n",
    "print(ob.seating_capacity(5))"
   ]
  },
  {
   "cell_type": "code",
   "execution_count": 4,
   "id": "e992691b-32f6-4b99-9b90-470099d2a96f",
   "metadata": {},
   "outputs": [],
   "source": [
    "#3 que\n",
    "    # Multiple inheritance allows a class to inherit properties and methods from multiple parent classes.\n",
    "    #In this type of inheritance, a subclass can inherit from two or more parent classes"
   ]
  },
  {
   "cell_type": "code",
   "execution_count": 5,
   "id": "383c8150-ddb4-4f78-83bb-3c0dd19e8089",
   "metadata": {},
   "outputs": [],
   "source": [
    "class A:\n",
    "    def clasA(self,name):\n",
    "        self.name=name\n",
    "        print(self.name)"
   ]
  },
  {
   "cell_type": "code",
   "execution_count": 6,
   "id": "3cf671f6-2469-4b99-85ba-9740265da5d4",
   "metadata": {},
   "outputs": [],
   "source": [
    "class B:\n",
    "    def clasB(self,age):\n",
    "        self.age=age\n",
    "        print(self.age)"
   ]
  },
  {
   "cell_type": "code",
   "execution_count": 7,
   "id": "86da5ca2-e900-4ac9-9874-54c2c1a866e8",
   "metadata": {},
   "outputs": [],
   "source": [
    "OBJ_1=A()\n",
    "OBJ_2=B()"
   ]
  },
  {
   "cell_type": "code",
   "execution_count": 8,
   "id": "e0b68f11-4324-4f6c-b0f7-5fa1a5f175ec",
   "metadata": {},
   "outputs": [
    {
     "name": "stdout",
     "output_type": "stream",
     "text": [
      "20\n"
     ]
    }
   ],
   "source": [
    "OBJ_2.clasB(20)"
   ]
  },
  {
   "cell_type": "code",
   "execution_count": 9,
   "id": "9afc73e6-bfc9-4577-b1a6-5f11a1232692",
   "metadata": {},
   "outputs": [],
   "source": [
    "class C(A,B):\n",
    "    def clasC(self,age,gender):\n",
    "        self.gender=gender\n",
    "        print(self.gender,self.age)"
   ]
  },
  {
   "cell_type": "code",
   "execution_count": 10,
   "id": "f36e15b7-53d5-4d02-9678-ab02703bb1d0",
   "metadata": {},
   "outputs": [],
   "source": [
    "OBJ_3=C()"
   ]
  },
  {
   "cell_type": "code",
   "execution_count": 11,
   "id": "af7203df-ca0f-464c-805e-93c4a9e5e3ad",
   "metadata": {},
   "outputs": [
    {
     "name": "stdout",
     "output_type": "stream",
     "text": [
      "devti\n",
      "20\n"
     ]
    }
   ],
   "source": [
    "OBJ_3.clasA('devti')\n",
    "OBJ_3.clasB(20)"
   ]
  },
  {
   "cell_type": "code",
   "execution_count": 12,
   "id": "4f4da2bb-aa22-452b-b3be-765406fb2deb",
   "metadata": {},
   "outputs": [],
   "source": [
    "#4 que\n",
    "#      In Python, getters and setters are methods used to access (get) and\n",
    "#      modify (set) the values of private or protected attributes of a class. "
   ]
  },
  {
   "cell_type": "code",
   "execution_count": 13,
   "id": "04641ea7-74d9-47d0-a65a-c007cbfc10f9",
   "metadata": {},
   "outputs": [],
   "source": [
    "class new:\n",
    "    def __init__(self,price):\n",
    "        self._price=price\n",
    "    def get_price(self):\n",
    "        return self._price\n",
    "    def set_price(self,new_price):\n",
    "        self._price=new_price\n",
    "        return self._price"
   ]
  },
  {
   "cell_type": "code",
   "execution_count": 14,
   "id": "caa5a21e-70ad-4444-8d5c-3f057d3cd5ac",
   "metadata": {},
   "outputs": [
    {
     "data": {
      "text/plain": [
       "200"
      ]
     },
     "execution_count": 14,
     "metadata": {},
     "output_type": "execute_result"
    }
   ],
   "source": [
    "obj=new(200)\n",
    "obj.get_price()"
   ]
  },
  {
   "cell_type": "code",
   "execution_count": 15,
   "id": "4ff65f7f-0d66-4c6b-bbc5-9c78413a40ba",
   "metadata": {},
   "outputs": [
    {
     "data": {
      "text/plain": [
       "400"
      ]
     },
     "execution_count": 15,
     "metadata": {},
     "output_type": "execute_result"
    }
   ],
   "source": [
    "obj.set_price(400)"
   ]
  },
  {
   "cell_type": "code",
   "execution_count": 16,
   "id": "76c9b16f-92f3-4813-a43f-e09aa31fa6c8",
   "metadata": {},
   "outputs": [],
   "source": [
    "#5 que\n",
    "\n",
    "\n",
    "class Dog:\n",
    "    def speak(self):\n",
    "        print(\"The dog barks.\")\n",
    "\n",
    "class Cat:\n",
    "    def speak(self):\n",
    "        print(\"The cat meows.\")"
   ]
  },
  {
   "cell_type": "code",
   "execution_count": 17,
   "id": "3f204220-bd13-4db0-a686-46c7f6d3b03b",
   "metadata": {},
   "outputs": [],
   "source": [
    "dog = Dog()\n",
    "cat = Cat()"
   ]
  },
  {
   "cell_type": "code",
   "execution_count": 18,
   "id": "4c8efe8f-b958-479a-9329-edbef60ceab0",
   "metadata": {},
   "outputs": [
    {
     "name": "stdout",
     "output_type": "stream",
     "text": [
      "The dog barks.\n",
      "The cat meows.\n"
     ]
    }
   ],
   "source": [
    "dog.speak()\n",
    "cat.speak()"
   ]
  },
  {
   "cell_type": "code",
   "execution_count": null,
   "id": "02604d01-27b8-45dd-95ba-9e5dbda82bb9",
   "metadata": {},
   "outputs": [],
   "source": []
  }
 ],
 "metadata": {
  "kernelspec": {
   "display_name": "Python 3 (ipykernel)",
   "language": "python",
   "name": "python3"
  },
  "language_info": {
   "codemirror_mode": {
    "name": "ipython",
    "version": 3
   },
   "file_extension": ".py",
   "mimetype": "text/x-python",
   "name": "python",
   "nbconvert_exporter": "python",
   "pygments_lexer": "ipython3",
   "version": "3.10.8"
  }
 },
 "nbformat": 4,
 "nbformat_minor": 5
}
